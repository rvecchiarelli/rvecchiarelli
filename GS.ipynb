{
  "nbformat": 4,
  "nbformat_minor": 0,
  "metadata": {
    "colab": {
      "provenance": []
    },
    "kernelspec": {
      "name": "python3",
      "display_name": "Python 3"
    },
    "language_info": {
      "name": "python"
    }
  },
  "cells": [
    {
      "cell_type": "code",
      "execution_count": 6,
      "metadata": {
        "id": "-Q8qHvxJbeGZ"
      },
      "outputs": [],
      "source": [
        "# Check if files 0-999 exist and superimpose transparencies for those that do.\n",
        "import os\n",
        "from PIL import Image\n",
        "import numpy as np\n",
        "for i in range(0,1000):\n",
        "  number = i\n",
        "  path = '/content/drive/MyDrive/SciML/img_HighRes_5x5x1.25/ffd_%s.png' % number\n",
        "  isExist = os.path.exists(path)\n",
        "  if isExist == True:\n",
        "    img = Image.open(\"/content/drive/MyDrive/SciML/GT/GT_%s.png\" % number).convert(\"RGBA\")\n",
        "    background = Image.open(\"/content/drive/MyDrive/SciML/img_HighRes_5x5x1.25/ffd_%s.png\" % number).convert(\"RGBA\")\n",
        "    background.paste(img,(0,0), img)\n",
        "    background.save('/content/drive/MyDrive/SciML/GS_HighRes/GS_hr_%s.png' % number, \"PNG\")"
      ]
    }
  ]
}